{
 "cells": [
  {
   "cell_type": "markdown",
   "metadata": {
    "id": "oJLhQDqZjypi"
   },
   "source": [
    "**BBM473 Database Laboratory (Spring 2023)**\n",
    "\n",
    "\n",
    "Exercise 5: Transactions and Isolation\n",
    "------------\n",
    "\n",
    "\n",
    "In this exercise, we'll introduce a visualization of TXNs that we made- the **TXN Viewer**!\n",
    "\n",
    "To get the TXN Viewer to work, make sure that the following files are in the _same directory_ as this IPython notebook:\n",
    "* `txn_viewer.py`\n",
    "* `txnViewer.js`\n",
    "\n",
    "Also note that you'll need an internet connection to use the TXN Viewer (just for loading the javascript animation library!). The viewer might not work with Google Colab because it requires an internet connection. But it works with Jupyter Notebook.\n",
    "\n",
    "### Activity:\n",
    "\n",
    "We'll start with a simple example, implemented in serial fashion in our TXN viewer:"
   ]
  },
  {
   "cell_type": "code",
   "execution_count": null,
   "metadata": {
    "colab": {
     "base_uri": "https://localhost:8080/",
     "height": 104
    },
    "executionInfo": {
     "elapsed": 241,
     "status": "ok",
     "timestamp": 1644496366459,
     "user": {
      "displayName": "Ahmet ALKILINÇ",
      "photoUrl": "https://lh3.googleusercontent.com/a/default-user=s64",
      "userId": "01813398784949916198"
     },
     "user_tz": -180
    },
    "id": "UwFk-25zjypo",
    "outputId": "b4d19005-2c10-46af-b3b0-c076e7b4e8e4",
    "scrolled": false
   },
   "outputs": [],
   "source": [
    "from txn_viewer import TransactionManager\n",
    "\n",
    "# We create a TransactionManager object with a certain number of threads,\n",
    "# and optionally with initial\n",
    "tm = TransactionManager(n_threads=2, initial_main_vals={'A':50, 'B':200})\n",
    "\n",
    "# Step 1: Give interest\n",
    "INTEREST_RATE = 1.06\n",
    "\n",
    "a0 = tm.read(0, 'A')\n",
    "tm.write(0, 'A', a0*INTEREST_RATE)\n",
    "\n",
    "b0 = tm.read(0, 'B')\n",
    "tm.write(0, 'B', b0*INTEREST_RATE)\n",
    "\n",
    "\n",
    "# Step 2: Transfer funds\n",
    "\n",
    "a1 = tm.read(1, 'A')\n",
    "tm.write(1, 'A', a1 + 100)\n",
    "\n",
    "b1 = tm.read(1, 'B')\n",
    "tm.write(1, 'B', b1 - 100)\n",
    "\n",
    "tm.display(chart_num=0)"
   ]
  },
  {
   "cell_type": "markdown",
   "metadata": {
    "id": "4C-Aeu85jypp"
   },
   "source": [
    "### Task 1: Come up with _serializable_ schedules for the above\n",
    "\n",
    "How many can you find?  What about unserializable ones?  Use the above TXN viewer to explore. Give one example of _serializable_ schedules for the example above. And explain your schedule with 2-3 sentences."
   ]
  },
  {
   "cell_type": "code",
   "execution_count": null,
   "metadata": {
    "id": "8CB_-enKjypq"
   },
   "outputs": [],
   "source": []
  },
  {
   "cell_type": "markdown",
   "metadata": {
    "id": "3GUTktbUjypq"
   },
   "source": [
    "### Task 2: What kind of anomaly occurs below?"
   ]
  },
  {
   "cell_type": "code",
   "execution_count": null,
   "metadata": {
    "colab": {
     "base_uri": "https://localhost:8080/",
     "height": 104
    },
    "executionInfo": {
     "elapsed": 243,
     "status": "ok",
     "timestamp": 1644496370588,
     "user": {
      "displayName": "Ahmet ALKILINÇ",
      "photoUrl": "https://lh3.googleusercontent.com/a/default-user=s64",
      "userId": "01813398784949916198"
     },
     "user_tz": -180
    },
    "id": "QL00WH6Ljypq",
    "outputId": "5c0ebd7f-e8f0-4e4e-d7af-c2a7878cb379"
   },
   "outputs": [],
   "source": [
    "from txn_viewer import TransactionManager\n",
    "\n",
    "# We create a TransactionManager object with a certain number of threads,\n",
    "# and optionally with initial\n",
    "tm = TransactionManager(n_threads=3, initial_main_vals={'A':50})\n",
    "\n",
    "a0 = tm.read(0, 'A')\n",
    "\n",
    "tm.write(1, 'A', 65)\n",
    "\n",
    "tm.write(0, 'A', 45)\n",
    "\n",
    "tm.write(2, 'A', 75)\n",
    "\n",
    "tm.display(chart_num=1)"
   ]
  },
  {
   "cell_type": "markdown",
   "metadata": {},
   "source": [
    "Write your answer below (2-3 sentences):"
   ]
  },
  {
   "cell_type": "markdown",
   "metadata": {},
   "source": []
  },
  {
   "cell_type": "markdown",
   "metadata": {
    "id": "tI-tRe8Tjypr"
   },
   "source": [
    "### Task 3: Come up with examples of classic anomalies\n",
    "\n",
    "Have the general context of your example be something involving one or two accounts at a bank, otherwise feel free to be creative. Give examples for 3 classic anomalies (Unrepeatable Read, Dirty Read, Inconsistent Read, Lost Update). Write your answer by using ``TransactionManager`` like above."
   ]
  },
  {
   "cell_type": "code",
   "execution_count": null,
   "metadata": {
    "id": "UGo0hS-Ujyps"
   },
   "outputs": [],
   "source": []
  },
  {
   "cell_type": "code",
   "execution_count": null,
   "metadata": {},
   "outputs": [],
   "source": []
  },
  {
   "cell_type": "code",
   "execution_count": null,
   "metadata": {},
   "outputs": [],
   "source": []
  }
 ],
 "metadata": {
  "colab": {
   "collapsed_sections": [],
   "name": "Exercise-5.ipynb",
   "provenance": []
  },
  "kernelspec": {
   "display_name": "Python 3 (ipykernel)",
   "language": "python",
   "name": "python3"
  },
  "language_info": {
   "codemirror_mode": {
    "name": "ipython",
    "version": 3
   },
   "file_extension": ".py",
   "mimetype": "text/x-python",
   "name": "python",
   "nbconvert_exporter": "python",
   "pygments_lexer": "ipython3",
   "version": "3.10.9"
  }
 },
 "nbformat": 4,
 "nbformat_minor": 1
}
